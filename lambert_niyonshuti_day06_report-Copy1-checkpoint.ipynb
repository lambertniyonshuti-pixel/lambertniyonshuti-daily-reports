{
 "cells": [
  {
   "cell_type": "markdown",
   "id": "b37b5cdb-f1ec-4374-81d5-c326f6f003e7",
   "metadata": {},
   "source": [
    "## The report for day06 for python"
   ]
  },
  {
   "cell_type": "code",
   "execution_count": 1,
   "id": "b6da7e95-6bf1-410d-8497-3138840ef5ac",
   "metadata": {},
   "outputs": [
    {
     "name": "stdout",
     "output_type": "stream",
     "text": [
      "27\n"
     ]
    }
   ],
   "source": [
    "a = 27\n",
    "print(a)"
   ]
  },
  {
   "cell_type": "markdown",
   "id": "17d25abf-d944-4a65-8109-2eedddce9141",
   "metadata": {},
   "source": [
    "'''python\n",
    "  if ....:\n",
    "      instruction 1 .....\n",
    "'''"
   ]
  },
  {
   "cell_type": "code",
   "execution_count": 4,
   "id": "8546b6b1-8a9b-4fb2-a315-5b35eaddf27d",
   "metadata": {},
   "outputs": [
    {
     "name": "stdout",
     "output_type": "stream",
     "text": [
      "27\n",
      "We have it\n"
     ]
    }
   ],
   "source": [
    "a = 27\n",
    "print(a)\n",
    "if (a < 29):\n",
    "    print(\"We have it\")\n",
    "else:\n",
    "    print(\"we do not have\")"
   ]
  },
  {
   "cell_type": "markdown",
   "id": "10213ec2-d6b2-4da0-89d1-cc127bf10c75",
   "metadata": {},
   "source": [
    "### `if` ... `elif` ...`else`"
   ]
  },
  {
   "cell_type": "code",
   "execution_count": 9,
   "id": "d4ddc61a-b971-41ac-b883-8e45382a1532",
   "metadata": {},
   "outputs": [
    {
     "name": "stdout",
     "output_type": "stream",
     "text": [
      "30 is positive\n"
     ]
    }
   ],
   "source": [
    "x = 30\n",
    "if x > 0:\n",
    "    print( x ,\"is positive\")\n",
    "elif x < 0:\n",
    "    print(x ,\"is negative\")\n",
    "else:\n",
    "    print(x, \"is zero\")"
   ]
  },
  {
   "cell_type": "markdown",
   "id": "357f5075-dfcf-49af-8318-194c8fef4579",
   "metadata": {},
   "source": [
    "### `if` condition:\n",
    "        `if`....\n",
    "        `else`.....\n",
    "    `else`"
   ]
  },
  {
   "cell_type": "code",
   "execution_count": 12,
   "id": "af35a613-150c-4925-974f-9ed2798e2e95",
   "metadata": {},
   "outputs": [
    {
     "name": "stdout",
     "output_type": "stream",
     "text": [
      "16  is greater than  4\n",
      "the diff is greater than 5\n"
     ]
    }
   ],
   "source": [
    "a =16\n",
    "b =4\n",
    "if a > b:\n",
    "    print(a,\" is greater than \",b)\n",
    "    if (a-b >5):\n",
    "        print(\"the diff is greater than 5\")\n",
    "    else:\n",
    "        print(\"the diff is less than 5\")\n",
    "else:\n",
    "    print(b,\" is greater than \",a)"
   ]
  },
  {
   "cell_type": "code",
   "execution_count": 35,
   "id": "92abfe40-7e5f-4eda-a20e-3c2f4025290c",
   "metadata": {},
   "outputs": [
    {
     "name": "stdin",
     "output_type": "stream",
     "text": [
      "enter a 5\n",
      "enter b 5\n",
      "enter c 6\n"
     ]
    },
    {
     "name": "stdout",
     "output_type": "stream",
     "text": [
      "complex (-12.5+24.366985862022407j) (-12.5+24.366985862022407j)\n"
     ]
    }
   ],
   "source": [
    "import math\n",
    "import cmath\n",
    "a = input(\"enter a\")\n",
    "b =  input(\"enter b\")\n",
    "c = input(\"enter c\")\n",
    "a = int(a)\n",
    "b = int(b)\n",
    "c= int(c)\n",
    "\n",
    "delta = b*b - 4*a*c\n",
    "if a!= 0:\n",
    "   if delta == 0:\n",
    "      x = (-b)/(2*a)\n",
    "      print(\"one root\", x)\n",
    "   elif delta >= 0:\n",
    "      x_1 = ((-b)+ math.sqrt(delta))/2*a\n",
    "      x_2 = ((-b)- math.sqrt(delta))/2*a\n",
    "      print(\"two root\",x_1,x_2)\n",
    "   else:\n",
    "       x_1 = ((-b)+ cmath.sqrt(delta))/2*a\n",
    "       x_2 = ((-b)+ cmath.sqrt(delta))/2*a\n",
    "       print(\"complex\",x_1,x_2)\n",
    "else:\n",
    "    print(\"not quadiratic\")"
   ]
  },
  {
   "cell_type": "markdown",
   "id": "2eaf82ee-35f4-4921-8293-86c163c68944",
   "metadata": {},
   "source": [
    "### loop"
   ]
  },
  {
   "cell_type": "code",
   "execution_count": 36,
   "id": "2dda2e2f-faec-4ac6-a357-d5c9f25bb720",
   "metadata": {},
   "outputs": [
    {
     "name": "stdout",
     "output_type": "stream",
     "text": [
      "the value of i is  1\n",
      "the value of i is  2\n",
      "the value of i is  3\n",
      "the value of i is  4\n",
      "the value of i is  5\n",
      "the value of i is  6\n",
      "the value of i is  7\n",
      "the value of i is  8\n",
      "the value of i is  9\n"
     ]
    }
   ],
   "source": [
    "i = 1\n",
    "while (i < 10):\n",
    "    print(\"the value of i is \", i)\n",
    "    i = i + 1"
   ]
  },
  {
   "cell_type": "code",
   "execution_count": 38,
   "id": "1d13c869-8002-4ad2-881d-98f016f1d49d",
   "metadata": {},
   "outputs": [
    {
     "name": "stdout",
     "output_type": "stream",
     "text": [
      "1\n",
      "2\n",
      "3\n",
      "4\n",
      "5\n",
      "6\n",
      "7\n",
      "8\n",
      "9\n"
     ]
    }
   ],
   "source": [
    "for i in range(1,10):\n",
    "    print(i)"
   ]
  },
  {
   "cell_type": "code",
   "execution_count": 39,
   "id": "b8851a38-4389-4625-b6c9-d99f71f4590f",
   "metadata": {},
   "outputs": [
    {
     "name": "stdout",
     "output_type": "stream",
     "text": [
      "try again\n",
      "we found it\n",
      "try again\n",
      "try again\n",
      "try again\n"
     ]
    }
   ],
   "source": [
    "list_fr = [3,5,'hello',98,67]\n",
    "for i in list_fr:\n",
    "    if i== 5:\n",
    "        print(\"we found it\")\n",
    "    else:\n",
    "        print(\"try again\")"
   ]
  },
  {
   "cell_type": "code",
   "execution_count": 40,
   "id": "6d2752cf-d688-4174-864b-917525cc8700",
   "metadata": {},
   "outputs": [
    {
     "name": "stdout",
     "output_type": "stream",
     "text": [
      "the letter H is a consonant\n",
      "the letter e is a vowel\n",
      "the letter l is a consonant\n",
      "the letter l is a consonant\n",
      "the letter o is a vowel\n",
      "the letter , is a consonant\n",
      "this is likely a space\n",
      "the letter W is a consonant\n",
      "the letter o is a vowel\n",
      "the letter r is a consonant\n",
      "the letter l is a consonant\n",
      "the letter d is a consonant\n"
     ]
    }
   ],
   "source": [
    "#sentence = \"This is the second class in the new AIMS building\"\n",
    "sentence = \"Hello, World\"\n",
    "for letter in sentence:\n",
    "    if letter in \"AEIOUaeiou\":\n",
    "        print(\"the letter\",letter, \"is a vowel\")\n",
    "    elif letter == \" \":\n",
    "        print(\"this is likely a space\")\n",
    "    else:\n",
    "        print(\"the letter\", letter,\"is a consonant\")"
   ]
  },
  {
   "cell_type": "code",
   "execution_count": null,
   "id": "5ec95d4b-69b1-4bdb-96ba-fbbcdbf8530b",
   "metadata": {},
   "outputs": [],
   "source": []
  }
 ],
 "metadata": {
  "kernelspec": {
   "display_name": "Python [conda env:base] *",
   "language": "python",
   "name": "conda-base-py"
  },
  "language_info": {
   "codemirror_mode": {
    "name": "ipython",
    "version": 3
   },
   "file_extension": ".py",
   "mimetype": "text/x-python",
   "name": "python",
   "nbconvert_exporter": "python",
   "pygments_lexer": "ipython3",
   "version": "3.13.5"
  }
 },
 "nbformat": 4,
 "nbformat_minor": 5
}
