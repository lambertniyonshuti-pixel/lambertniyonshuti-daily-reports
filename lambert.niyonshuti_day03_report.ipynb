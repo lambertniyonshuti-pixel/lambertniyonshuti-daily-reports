{
 "cells": [
  {
   "cell_type": "markdown",
   "id": "21b2b3f5-c45d-43dc-ba72-229b87a6c250",
   "metadata": {},
   "source": [
    "Strings and files"
   ]
  },
  {
   "cell_type": "code",
   "execution_count": 1,
   "id": "a27126ca-4f7b-48a1-9ba3-8759cbae1865",
   "metadata": {},
   "outputs": [],
   "source": [
    "string_1 = \"Will you be at dinner this evining?\"\n",
    "string_2 = '\"Yes\", he replies.'"
   ]
  },
  {
   "cell_type": "code",
   "execution_count": 2,
   "id": "75e83560-ac56-4854-9085-a0aa5088fc31",
   "metadata": {},
   "outputs": [
    {
     "name": "stdout",
     "output_type": "stream",
     "text": [
      "Will you be at dinner this evining?\n"
     ]
    }
   ],
   "source": [
    "print(string_1)"
   ]
  },
  {
   "cell_type": "code",
   "execution_count": 3,
   "id": "1856e818-2124-46e6-9db4-a7ba57cfbb5e",
   "metadata": {},
   "outputs": [
    {
     "name": "stdout",
     "output_type": "stream",
     "text": [
      "\"Yes\", he replies.\n"
     ]
    }
   ],
   "source": [
    "print(string_2)"
   ]
  },
  {
   "cell_type": "markdown",
   "id": "e8c8b1d2-d35d-4177-b749-8eb96d0e5fc5",
   "metadata": {},
   "source": [
    "## indexing"
   ]
  },
  {
   "cell_type": "code",
   "execution_count": 4,
   "id": "c7b593d1-6864-478e-8459-ec7a34d18a11",
   "metadata": {},
   "outputs": [
    {
     "data": {
      "text/plain": [
       "'W'"
      ]
     },
     "execution_count": 4,
     "metadata": {},
     "output_type": "execute_result"
    }
   ],
   "source": [
    "string_1[0]"
   ]
  },
  {
   "cell_type": "code",
   "execution_count": 5,
   "id": "514c3701-e470-4040-befc-7512466ff45a",
   "metadata": {},
   "outputs": [
    {
     "data": {
      "text/plain": [
       "'l'"
      ]
     },
     "execution_count": 5,
     "metadata": {},
     "output_type": "execute_result"
    }
   ],
   "source": [
    "string_1[2]"
   ]
  },
  {
   "cell_type": "code",
   "execution_count": 7,
   "id": "a1a69ebf-c9c5-4f9d-ab09-ea8c8fd6be18",
   "metadata": {},
   "outputs": [
    {
     "name": "stdout",
     "output_type": "stream",
     "text": [
      "Will you be at dinner this evining?\n",
      "The second character of my string is  i\n"
     ]
    }
   ],
   "source": [
    "print(string_1)\n",
    "print(\"The second character of my string is \", string_1[1])"
   ]
  },
  {
   "cell_type": "code",
   "execution_count": 8,
   "id": "c7b03128-a9b9-4509-bb1d-a643db922375",
   "metadata": {},
   "outputs": [
    {
     "data": {
      "text/plain": [
       "'?'"
      ]
     },
     "execution_count": 8,
     "metadata": {},
     "output_type": "execute_result"
    }
   ],
   "source": [
    "string_1[-1]"
   ]
  },
  {
   "cell_type": "code",
   "execution_count": 10,
   "id": "5ab83811-490d-422c-8dd8-7eadb3627117",
   "metadata": {},
   "outputs": [
    {
     "data": {
      "text/plain": [
       "'Will'"
      ]
     },
     "execution_count": 10,
     "metadata": {},
     "output_type": "execute_result"
    }
   ],
   "source": [
    "string_1[0:4]"
   ]
  },
  {
   "cell_type": "code",
   "execution_count": 11,
   "id": "cb0f1515-7d1d-45cf-a12e-e655a4fe62ae",
   "metadata": {},
   "outputs": [
    {
     "data": {
      "text/plain": [
       "'ou b'"
      ]
     },
     "execution_count": 11,
     "metadata": {},
     "output_type": "execute_result"
    }
   ],
   "source": [
    "string_1[6:10]"
   ]
  },
  {
   "cell_type": "markdown",
   "id": "8ae41225-02d6-49a9-806f-39c71ab46ace",
   "metadata": {},
   "source": [
    "## Slicing\n"
   ]
  },
  {
   "cell_type": "code",
   "execution_count": 12,
   "id": "dee2021d-4c44-4a30-b920-d94f21397209",
   "metadata": {},
   "outputs": [
    {
     "name": "stdout",
     "output_type": "stream",
     "text": [
      "Will you be at dinner this evining?\n"
     ]
    },
    {
     "data": {
      "text/plain": [
       "'l o'"
      ]
     },
     "execution_count": 12,
     "metadata": {},
     "output_type": "execute_result"
    }
   ],
   "source": [
    "print(string_1)\n",
    "string_1[2:8:2]"
   ]
  },
  {
   "cell_type": "code",
   "execution_count": 16,
   "id": "16dce09e-f01b-48e6-8dcc-9013e9336377",
   "metadata": {},
   "outputs": [
    {
     "name": "stdout",
     "output_type": "stream",
     "text": [
      "ll you\n",
      "ll you\n",
      "ll you\n"
     ]
    }
   ],
   "source": [
    "print(string_1[2:8:1])\n",
    "print(string_1[2:8:])\n",
    "print(string_1[2:8])"
   ]
  },
  {
   "cell_type": "code",
   "execution_count": 17,
   "id": "e6fb993a-ee08-45c8-91e6-7d4b9be81712",
   "metadata": {},
   "outputs": [
    {
     "data": {
      "text/plain": [
       "'l you be at dinner this evining'"
      ]
     },
     "execution_count": 17,
     "metadata": {},
     "output_type": "execute_result"
    }
   ],
   "source": [
    "string_1[3:-1]"
   ]
  },
  {
   "cell_type": "code",
   "execution_count": 19,
   "id": "5dfd9e4f-ba46-457c-94c2-38538bd788c9",
   "metadata": {},
   "outputs": [
    {
     "data": {
      "text/plain": [
       "35"
      ]
     },
     "execution_count": 19,
     "metadata": {},
     "output_type": "execute_result"
    }
   ],
   "source": [
    "len(string_1)"
   ]
  },
  {
   "cell_type": "markdown",
   "id": "29cd3ccb-6ac3-483a-ae62-11493f1c0c58",
   "metadata": {},
   "source": [
    "## Concatenation"
   ]
  },
  {
   "cell_type": "code",
   "execution_count": 22,
   "id": "46fd57e6-d3b1-4af8-9488-3d08828de0bb",
   "metadata": {},
   "outputs": [
    {
     "name": "stdout",
     "output_type": "stream",
     "text": [
      "Hello, World\n",
      "WorldWorld\n"
     ]
    }
   ],
   "source": [
    "my_var1 = \"Hello, \"\n",
    "my_var2 = \"World\"\n",
    "concat1 = my_var1 + my_var2\n",
    "print(concat1)\n",
    "print(2*my_var2)\n"
   ]
  },
  {
   "cell_type": "code",
   "execution_count": 23,
   "id": "a4d982f2-1c38-4581-9025-4313e3434781",
   "metadata": {},
   "outputs": [
    {
     "ename": "TypeError",
     "evalue": "can't multiply sequence by non-int of type 'float'",
     "output_type": "error",
     "traceback": [
      "\u001b[1;31m---------------------------------------------------------------------------\u001b[0m",
      "\u001b[1;31mTypeError\u001b[0m                                 Traceback (most recent call last)",
      "Cell \u001b[1;32mIn[23], line 1\u001b[0m\n\u001b[1;32m----> 1\u001b[0m \u001b[38;5;28mprint\u001b[39m(\u001b[38;5;241m2.5\u001b[39m\u001b[38;5;241m*\u001b[39mmy_var2)\n",
      "\u001b[1;31mTypeError\u001b[0m: can't multiply sequence by non-int of type 'float'"
     ]
    }
   ],
   "source": [
    "print(2.5*my_var2)"
   ]
  },
  {
   "cell_type": "code",
   "execution_count": 25,
   "id": "11449e2d-264f-4a8b-a0d0-9e23043eabec",
   "metadata": {},
   "outputs": [
    {
     "data": {
      "text/plain": [
       "'World'"
      ]
     },
     "execution_count": 25,
     "metadata": {},
     "output_type": "execute_result"
    }
   ],
   "source": [
    "my_var2.capitalize()"
   ]
  },
  {
   "cell_type": "code",
   "execution_count": 26,
   "id": "f174925e-32a6-4173-994b-c5f1286b1bb4",
   "metadata": {},
   "outputs": [],
   "source": [
    "var1 = \"My name is\"\n",
    "var2 = \"Diko\"\n"
   ]
  },
  {
   "cell_type": "code",
   "execution_count": 27,
   "id": "a01ca13e-b3ff-4127-b680-7b55fb604f21",
   "metadata": {},
   "outputs": [
    {
     "name": "stdout",
     "output_type": "stream",
     "text": [
      "My name isDiko\n"
     ]
    }
   ],
   "source": [
    "print(var1 + var2)"
   ]
  },
  {
   "cell_type": "code",
   "execution_count": 53,
   "id": "968c853f-13b7-49d7-8e4d-f65865889015",
   "metadata": {},
   "outputs": [
    {
     "data": {
      "text/plain": [
       "1"
      ]
     },
     "execution_count": 53,
     "metadata": {},
     "output_type": "execute_result"
    }
   ],
   "source": [
    "var1.count(\"My\")"
   ]
  },
  {
   "cell_type": "code",
   "execution_count": 29,
   "id": "2eac005a-a1e2-4067-83ec-fc2fa1642a7e",
   "metadata": {},
   "outputs": [
    {
     "data": {
      "text/plain": [
       "\u001b[1;31mSignature:\u001b[0m \u001b[0mvar1\u001b[0m\u001b[1;33m.\u001b[0m\u001b[0mcenter\u001b[0m\u001b[1;33m(\u001b[0m\u001b[0mwidth\u001b[0m\u001b[1;33m,\u001b[0m \u001b[0mfillchar\u001b[0m\u001b[1;33m=\u001b[0m\u001b[1;34m' '\u001b[0m\u001b[1;33m,\u001b[0m \u001b[1;33m/\u001b[0m\u001b[1;33m)\u001b[0m\u001b[1;33m\u001b[0m\u001b[1;33m\u001b[0m\u001b[0m\n",
       "\u001b[1;31mDocstring:\u001b[0m\n",
       "Return a centered string of length width.\n",
       "\n",
       "Padding is done using the specified fill character (default is a space).\n",
       "\u001b[1;31mType:\u001b[0m      builtin_function_or_method"
      ]
     },
     "metadata": {},
     "output_type": "display_data"
    }
   ],
   "source": [
    "?var1.center"
   ]
  },
  {
   "cell_type": "code",
   "execution_count": 62,
   "id": "18ccfc6a-ba49-47dc-a3af-f67f50e7b4cc",
   "metadata": {},
   "outputs": [
    {
     "data": {
      "text/plain": [
       "'****My name is***'"
      ]
     },
     "execution_count": 62,
     "metadata": {},
     "output_type": "execute_result"
    }
   ],
   "source": [
    "var1.center(17,'*')"
   ]
  },
  {
   "cell_type": "code",
   "execution_count": 42,
   "id": "21e535ce-6994-4f1b-9e5b-1935d518022e",
   "metadata": {},
   "outputs": [
    {
     "data": {
      "text/plain": [
       "\u001b[1;31mDocstring:\u001b[0m\n",
       "Return the lowest index in S where substring sub is found, such that sub is contained within S[start:end].\n",
       "\n",
       "Optional arguments start and end are interpreted as in slice notation.\n",
       "Return -1 on failure.\n",
       "\u001b[1;31mType:\u001b[0m      builtin_function_or_method"
      ]
     },
     "metadata": {},
     "output_type": "display_data"
    }
   ],
   "source": [
    "?var1.find"
   ]
  },
  {
   "cell_type": "code",
   "execution_count": 45,
   "id": "b81978ec-756c-454e-89fb-ecedd58acfb8",
   "metadata": {},
   "outputs": [
    {
     "data": {
      "text/plain": [
       "3"
      ]
     },
     "execution_count": 45,
     "metadata": {},
     "output_type": "execute_result"
    }
   ],
   "source": [
    "var1.find(\"name\")"
   ]
  },
  {
   "cell_type": "code",
   "execution_count": 63,
   "id": "ca58c6ee-014c-423e-96b8-a80133b9c173",
   "metadata": {},
   "outputs": [
    {
     "data": {
      "text/plain": [
       "\u001b[1;31mSignature:\u001b[0m \u001b[0mvar2\u001b[0m\u001b[1;33m.\u001b[0m\u001b[0misalnum\u001b[0m\u001b[1;33m(\u001b[0m\u001b[1;33m)\u001b[0m\u001b[1;33m\u001b[0m\u001b[1;33m\u001b[0m\u001b[0m\n",
       "\u001b[1;31mDocstring:\u001b[0m\n",
       "Return True if the string is an alpha-numeric string, False otherwise.\n",
       "\n",
       "A string is alpha-numeric if all characters in the string are alpha-numeric and\n",
       "there is at least one character in the string.\n",
       "\u001b[1;31mType:\u001b[0m      builtin_function_or_method"
      ]
     },
     "metadata": {},
     "output_type": "display_data"
    }
   ],
   "source": [
    "?var2.isalnum"
   ]
  },
  {
   "cell_type": "code",
   "execution_count": 72,
   "id": "ba74e5e5-6634-48d4-b4aa-7b2eb961481c",
   "metadata": {},
   "outputs": [
    {
     "data": {
      "text/plain": [
       "True"
      ]
     },
     "execution_count": 72,
     "metadata": {},
     "output_type": "execute_result"
    }
   ],
   "source": [
    "var2.isalnum()"
   ]
  },
  {
   "cell_type": "code",
   "execution_count": 65,
   "id": "8d432e9d-b7c9-4eaa-ad92-56e1686462bc",
   "metadata": {},
   "outputs": [
    {
     "data": {
      "text/plain": [
       "'Diko'"
      ]
     },
     "execution_count": 65,
     "metadata": {},
     "output_type": "execute_result"
    }
   ],
   "source": [
    "var2"
   ]
  },
  {
   "cell_type": "code",
   "execution_count": 73,
   "id": "e911a339-c92d-4d63-8ce7-67105dc050dc",
   "metadata": {},
   "outputs": [
    {
     "name": "stdout",
     "output_type": "stream",
     "text": [
      " Volume in drive C has no label.\n",
      " Volume Serial Number is CACB-D571\n",
      "\n",
      " Directory of C:\\Users\\USER\\Desktop\\Python_course\\notebooks_lecture_notes\n",
      "\n",
      "09/25/2025  12:21 PM    <DIR>          .\n",
      "09/23/2025  11:19 AM    <DIR>          ..\n",
      "09/25/2025  12:19 PM    <DIR>          .ipynb_checkpoints\n",
      "09/23/2025  11:00 AM    <DIR>          anaconda_projects\n",
      "09/23/2025  11:19 AM             6,021 command_mode.png\n",
      "09/22/2025  05:34 PM            39,012 Diko.jpg\n",
      "09/23/2025  11:16 AM             6,030 edit_mode.png\n",
      "09/23/2025  11:17 AM           194,094 Emily.png\n",
      "09/23/2025  05:57 PM            37,193 lambert.niyonshuti-day00-report.ipynb\n",
      "09/24/2025  11:55 AM            61,830 lambert.niyonshuti-day01-report.ipynb\n",
      "09/24/2025  01:51 PM            81,130 lambert.niyonshuti-day02-report.ipynb\n",
      "09/24/2025  01:52 PM            81,130 lambertniyonshuti-day01-report.ipynb\n",
      "09/23/2025  11:04 AM            17,311 menubar_toolbar.png\n",
      "09/23/2025  05:43 PM            37,193 PyPro-SCiDaS-day_00_introduction_to_jupyter_notebooks.ipynb\n",
      "09/24/2025  06:13 PM            61,948 PyPro-SCiDaS-day_01a_introduction_to_python.ipynb\n",
      "09/24/2025  10:48 PM            68,106 PyPro-SCiDaS-day_01b_variables-and-assignment.ipynb\n",
      "09/25/2025  12:21 PM                47 testfile.txt\n",
      "09/24/2025  11:36 PM            36,386 Tutorial_1.ipynb\n",
      "09/24/2025  04:08 PM            36,436 Tutorial_answers_1.ipynb\n",
      "09/25/2025  12:19 PM            12,257 Untitled.ipynb\n",
      "              16 File(s)        776,124 bytes\n",
      "               4 Dir(s)  138,275,090,432 bytes free\n"
     ]
    }
   ],
   "source": [
    "!dir"
   ]
  },
  {
   "cell_type": "code",
   "execution_count": 1,
   "id": "0603a871-2463-4afc-b075-81f9ca173a1d",
   "metadata": {},
   "outputs": [],
   "source": [
    "# %load testfile.txt\n",
    "fghij\n",
    "aims class\n",
    "Rwanda 2025\n",
    "this is realy cool"
   ]
  },
  {
   "cell_type": "code",
   "execution_count": 2,
   "id": "003ea9f8-70fd-4486-8c53-f0bc06c96d35",
   "metadata": {},
   "outputs": [],
   "source": [
    "f = open('testfile.txt', 'r')"
   ]
  },
  {
   "cell_type": "code",
   "execution_count": 3,
   "id": "0e7ef0ba-749a-4d14-bba5-2e1e5e84870f",
   "metadata": {},
   "outputs": [
    {
     "data": {
      "text/plain": [
       "_io.TextIOWrapper"
      ]
     },
     "execution_count": 3,
     "metadata": {},
     "output_type": "execute_result"
    }
   ],
   "source": [
    "type(f)"
   ]
  },
  {
   "cell_type": "code",
   "execution_count": 4,
   "id": "7d330c51-a199-4df7-b660-34c859236a4b",
   "metadata": {},
   "outputs": [
    {
     "data": {
      "text/plain": [
       "['fghij\\n', 'aims class\\n', 'Rwanda 2025\\n', 'this is realy cool']"
      ]
     },
     "execution_count": 4,
     "metadata": {},
     "output_type": "execute_result"
    }
   ],
   "source": [
    "f.readlines()"
   ]
  },
  {
   "cell_type": "code",
   "execution_count": 5,
   "id": "77614579-c4e6-4ca7-965a-bca7cc5fc751",
   "metadata": {},
   "outputs": [
    {
     "data": {
      "text/plain": [
       "<_io.TextIOWrapper name='testfile.txt' mode='r' encoding='cp1252'>"
      ]
     },
     "execution_count": 5,
     "metadata": {},
     "output_type": "execute_result"
    }
   ],
   "source": [
    "f"
   ]
  },
  {
   "cell_type": "code",
   "execution_count": 9,
   "id": "d8541461-a522-4b76-bdbe-106bce0dc347",
   "metadata": {},
   "outputs": [],
   "source": [
    "to_write = open('outfile.txt', 'w')\n",
    "to_write.write(\"this is thursday\\n\")\n",
    "to_write.write(\"this is friday\")\n",
    "to_write.close()"
   ]
  },
  {
   "cell_type": "code",
   "execution_count": 10,
   "id": "63693b63-17f9-4637-a8f0-98c098734e5b",
   "metadata": {},
   "outputs": [
    {
     "data": {
      "text/plain": [
       "['this is thursday\\n', 'this is friday']"
      ]
     },
     "execution_count": 10,
     "metadata": {},
     "output_type": "execute_result"
    }
   ],
   "source": [
    "to_write= open('outfile.txt', 'r')\n",
    "to_write.readlines()"
   ]
  },
  {
   "cell_type": "code",
   "execution_count": null,
   "id": "0e2a3b97-68b3-4963-b17e-5564ba34e113",
   "metadata": {},
   "outputs": [],
   "source": []
  }
 ],
 "metadata": {
  "kernelspec": {
   "display_name": "Python [conda env:base] *",
   "language": "python",
   "name": "conda-base-py"
  },
  "language_info": {
   "codemirror_mode": {
    "name": "ipython",
    "version": 3
   },
   "file_extension": ".py",
   "mimetype": "text/x-python",
   "name": "python",
   "nbconvert_exporter": "python",
   "pygments_lexer": "ipython3",
   "version": "3.13.5"
  }
 },
 "nbformat": 4,
 "nbformat_minor": 5
}
